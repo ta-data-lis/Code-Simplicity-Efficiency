{
 "cells": [
  {
   "cell_type": "code",
   "execution_count": 4,
   "metadata": {},
   "outputs": [
    {
     "name": "stdout",
     "output_type": "stream",
     "text": [
      "Welcome to this calculator!\n",
      "It can add and subtract whole numbers from zero to five\n"
     ]
    },
    {
     "name": "stdin",
     "output_type": "stream",
     "text": [
      "Please choose your first number (zero to five):  zero\n",
      "What do you want to do? plus or minus:  plus\n",
      "Please choose your second number (zero to five):  zero\n"
     ]
    },
    {
     "name": "stdout",
     "output_type": "stream",
     "text": [
      "zero plus zero equals zero\n"
     ]
    }
   ],
   "source": [
    "\"\"\"\n",
    "This is a dumb calculator that can add and subtract whole numbers from zero to five.\n",
    "When you run the code, you are prompted to enter two numbers (in the form of English\n",
    "word instead of number) and the operator sign (also in the form of English word).\n",
    "The code will perform the calculation and give the result if your input is what it\n",
    "expects.\n",
    "The code is very long and messy. Refactor it according to what you have learned about\n",
    "code simplicity and efficiency.\n",
    "\"\"\"\n",
    "\n",
    "numbers_output={'negative five':-5,'negative four':-4,'negative three':-3,'negative two':-2,'negative one':-1,'zero':0,'one':1,'two':2,'three':3,'four':4,'five':5,'six':6,'seven':8,'eight':8,'nine':9,'ten':10}\n",
    "numbers_input = {'zero','one','two' ,'three' ,'four' ,'five'}\n",
    "\n",
    "print('Welcome to this calculator!')\n",
    "print('It can add and subtract whole numbers from zero to five')\n",
    "a = input('Please choose your first number (zero to five): ')\n",
    "b = input('What do you want to do? plus or minus: ')\n",
    "c = input('Please choose your second number (zero to five): ')\n",
    "\n",
    "def sum(a,b,c):\n",
    "    \n",
    "    a=numbers_output[a]\n",
    "    c=numbers_output[c]\n",
    "        \n",
    "    if b=='plus':\n",
    "        result=a+c\n",
    "    else:\n",
    "        result=a-c\n",
    "    \n",
    "    for (key,value) in numbers_output.items():\n",
    "        if result==value:\n",
    "            return key\n",
    "        \n",
    "if a not in numbers_input or c not in numbers_input or b not in ['plus','minus']:\n",
    "    print(\"I am not able to answer this question. Check your input.\")\n",
    "    a = input('Please choose your first number (zero to five): ')\n",
    "    b = input('What do you want to do? plus or minus: ')\n",
    "    c = input('Please choose your second number (zero to five): ')\n",
    "else: \n",
    "    \n",
    "    print(' '.join([a,b,c,'equals',sum(a,b,c)]))\n",
    "        "
   ]
  }
 ],
 "metadata": {
  "kernelspec": {
   "display_name": "Python 3",
   "language": "python",
   "name": "python3"
  },
  "language_info": {
   "codemirror_mode": {
    "name": "ipython",
    "version": 3
   },
   "file_extension": ".py",
   "mimetype": "text/x-python",
   "name": "python",
   "nbconvert_exporter": "python",
   "pygments_lexer": "ipython3",
   "version": "3.8.3"
  }
 },
 "nbformat": 4,
 "nbformat_minor": 4
}
