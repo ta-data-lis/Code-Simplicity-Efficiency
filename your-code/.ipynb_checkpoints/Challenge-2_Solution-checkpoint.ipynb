{
 "cells": [
  {
   "cell_type": "code",
   "execution_count": 5,
   "metadata": {},
   "outputs": [
    {
     "name": "stdout",
     "output_type": "stream",
     "text": [
      "Enter minimum string length: 2\n",
      "Enter maximum string length: 3\n",
      "How many random strings to generate?: 2\n",
      "['xNP', '277']\n"
     ]
    }
   ],
   "source": [
    "import random\n",
    "import string\n",
    "\n",
    "def id_generator(size=6, chars=string.ascii_letters + string.digits):\n",
    "    return ''.join(random.choice(chars) for i in range(size))\n",
    "\n",
    "def batchgenerator(num_strings, lower_length, upper_length):\n",
    "    return [id_generator(random.randint(lower_length, upper_length)) for i in range(num_strings)]\n",
    "\n",
    "lower_length = input('Enter minimum string length: ')\n",
    "upper_length = input('Enter maximum string length: ')\n",
    "num_strings = input('How many random strings to generate?: ')\n",
    "\n",
    "print(batchgenerator(int(num_strings), int(lower_length), int(upper_length)))"
   ]
  },
  {
   "cell_type": "code",
   "execution_count": null,
   "metadata": {},
   "outputs": [],
   "source": []
  }
 ],
 "metadata": {
  "kernelspec": {
   "display_name": "Python 3",
   "language": "python",
   "name": "python3"
  },
  "language_info": {
   "codemirror_mode": {
    "name": "ipython",
    "version": 3
   },
   "file_extension": ".py",
   "mimetype": "text/x-python",
   "name": "python",
   "nbconvert_exporter": "python",
   "pygments_lexer": "ipython3",
   "version": "3.8.3"
  }
 },
 "nbformat": 4,
 "nbformat_minor": 4
}
