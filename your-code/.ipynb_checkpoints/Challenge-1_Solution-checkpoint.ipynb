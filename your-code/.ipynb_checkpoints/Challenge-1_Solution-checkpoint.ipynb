{
 "cells": [
  {
   "cell_type": "code",
   "execution_count": 24,
   "metadata": {},
   "outputs": [
    {
     "name": "stdout",
     "output_type": "stream",
     "text": [
      "Welcome to this calculator! \n",
      "It can add and subtract whole numbers from 0 to 5\n",
      "Please choose your first number (0 to 5): 2\n",
      "What do you want to add or subtract?: add\n",
      "Please choose your second number (0 to 5): 2\n",
      "Result: 4\n",
      "Thanks for using this calculator, goodbye :)\n"
     ]
    }
   ],
   "source": [
    "print('Welcome to this calculator! \\nIt can add and subtract whole numbers from 0 to 5')\n",
    "\n",
    "a = int(input('Please choose your first number (0 to 5): '))\n",
    "\n",
    "b = input('What do you want to add or subtract?: ')\n",
    "\n",
    "c = int(input('Please choose your second number (0 to 5): '))\n",
    "\n",
    "if b == '+' or b == 'plus' or b == 'add':\n",
    "    sum = a + c\n",
    "    print(\"Result:\", sum)\n",
    "    \n",
    "if b == '-' or b == 'minus' or b == 'subtract':\n",
    "    sum = a - c\n",
    "    print(\"Result:\", sum)\n",
    "\n",
    "print(\"Thanks for using this calculator, goodbye :)\")"
   ]
  },
  {
   "cell_type": "code",
   "execution_count": null,
   "metadata": {},
   "outputs": [],
   "source": []
  }
 ],
 "metadata": {
  "kernelspec": {
   "display_name": "Python 3",
   "language": "python",
   "name": "python3"
  },
  "language_info": {
   "codemirror_mode": {
    "name": "ipython",
    "version": 3
   },
   "file_extension": ".py",
   "mimetype": "text/x-python",
   "name": "python",
   "nbconvert_exporter": "python",
   "pygments_lexer": "ipython3",
   "version": "3.8.3"
  }
 },
 "nbformat": 4,
 "nbformat_minor": 4
}
