{
 "cells": [
  {
   "cell_type": "code",
   "execution_count": 23,
   "metadata": {},
   "outputs": [
    {
     "name": "stdout",
     "output_type": "stream",
     "text": [
      "What is the maximal length of the triangle side? Enter a number greater than 5: 20\n",
      "The longest side possible is 17\n"
     ]
    }
   ],
   "source": [
    "def function(x):\n",
    "    sides = [[x, y, z] for x in range(5, x) for y in range(4, x) for z in range (3, x) if (x*x==y*y+z*z)][-1]\n",
    "    return sides[0] \n",
    "\n",
    "x = input(\"What is the maximal length of the triangle side? Enter a number greater than 5: \")\n",
    "\n",
    "print(\"The longest side possible is \" + str(function(int(x))))"
   ]
  },
  {
   "cell_type": "code",
   "execution_count": null,
   "metadata": {},
   "outputs": [],
   "source": []
  }
 ],
 "metadata": {
  "kernelspec": {
   "display_name": "Python 3",
   "language": "python",
   "name": "python3"
  },
  "language_info": {
   "codemirror_mode": {
    "name": "ipython",
    "version": 3
   },
   "file_extension": ".py",
   "mimetype": "text/x-python",
   "name": "python",
   "nbconvert_exporter": "python",
   "pygments_lexer": "ipython3",
   "version": "3.8.3"
  }
 },
 "nbformat": 4,
 "nbformat_minor": 4
}
